{
 "cells": [
  {
   "cell_type": "markdown",
   "id": "fd1c8ddb-ff4d-4aa4-a2c4-62d55aacc439",
   "metadata": {},
   "source": [
    "# ImagiNar: Visiones Creativas en Estimulación Temprana"
   ]
  },
  {
   "cell_type": "markdown",
   "id": "74896c1b-3efb-4e86-a200-c0406f3b5862",
   "metadata": {},
   "source": [
    "1. Curso: Inteligencia artificial: Generación de Prompts\n",
    "2. Nombres: Rodrigo Castilla\n",
    "3. Comisión: 61255"
   ]
  },
  {
   "cell_type": "markdown",
   "id": "165ab8cb-9868-4fd1-be5e-756d6e9ed09c",
   "metadata": {},
   "source": [
    "# Problema\n",
    "\n",
    "La dificultad principal radica en encontrar imágenes que representen de manera precisa y atractiva los talleres para niños únicos y creativos ofrecidos el Centro de Estimulación Temprana (un negocio familiar). Estas actividades, al ser innovadoras, no tienen representaciones visuales estándar disponibles en internet."
   ]
  },
  {
   "cell_type": "markdown",
   "id": "3fa25fe4-5000-4736-aa46-b82a9906e0ce",
   "metadata": {},
   "source": [
    "# Desarrollo de la Propuesta de Solución\n",
    "\n",
    "1. Uso de IA para Creación de Imágenes\n",
    "2. Uso de IA para Creación de Texto\n",
    "3. Desarrollo de Prompts Específicos"
   ]
  },
  {
   "cell_type": "markdown",
   "id": "9b976843-f80b-4411-be30-2ee13431dda8",
   "metadata": {},
   "source": [
    "# Justificación de la Viabilidad del Proyecto\n",
    "\n",
    "1. Viabilidad Técnica y Creativa\n",
    "• Capacidad de los Modelos de IA: Los modelos actuales tienen una gran capacidad para generar imágenes creativas y específicas basadas en descripciones\n",
    "detalladas.\n",
    "• Adaptabilidad: Estos modelos pueden adaptarse a una amplia gama de escenarios y temas, lo cual es ideal para representar la diversidad de los talleres\n",
    "para el Centro de Estimulación.\n",
    "2. Beneficios y Valor Añadido\n",
    "• Diferenciación en el Mercado: Esta estrategia permitirá destacar frente a competidores, mostrando visualmente la singularidad y la calidad de los talleres.\n",
    "• Conexión Emocional: Las imágenes personalizadas pueden crear una conexión más profunda con los padres, mostrándoles exactamente qué experiencias únicas ofrece el centro para los niños."
   ]
  },
  {
   "cell_type": "markdown",
   "id": "c96d87ce-8dc8-49e0-a621-5debb9223657",
   "metadata": {},
   "source": [
    "# Objetivos\n",
    "1. Creación de Imágenes Personalizadas: Generar material visual único que refleje con precisión y creatividad las actividades del Centro de Estimulación Temprana, superando las limitaciones de las imágenes genéricas disponibles.\n",
    "2. Mejora en la Comunicación y Marketing: Utilizar estas imágenes para mejorar la promoción y comunicación del centro, atrayendo a más familias y destacando en el mercado.\n",
    "3. Exploración de la IA en el Ámbito Educativo: Investigar y demostrar cómo las tecnologías de IA pueden ser aplicadas de manera efectiva en el sector educativo, especialmente en la estimulación temprana.eres."
   ]
  },
  {
   "cell_type": "markdown",
   "id": "da56f6de-7f55-41ae-916a-ce62470d5079",
   "metadata": {},
   "source": [
    "# Metodología\n",
    "\n",
    "1. Definición de Requisitos Visuales: Realizar una evaluación detallada de las necesidades visuales del centro, identificando las características específicas de los talleres que se deben representar.\n",
    "2. Desarrollo de Prompts: Basándose en los requisitos identificados, se crearán descripciones detalladas (prompts) para guiar la generación de imágenes por parte de los modelos de IA.\n",
    "3. Iteración y Mejora Continua: Las imágenes generadas serán evaluadas y, de ser necesario, se ajustarán los prompts para mejorar la precisión y calidad visual de las imágenes.\n",
    "4. Implementación en Marketing: Integrar las imágenes generadas en los materiales de marketing y comunicación del centro.\n",
    "Evaluación y Retroalimentación: Recopilar comentarios de los padres y otros stakeholders para medir la efectividad de las imágenes en la comunicación del valor de los talleres."
   ]
  },
  {
   "cell_type": "markdown",
   "id": "e3bcc76b-47e8-4a3c-b392-7d09712efc5c",
   "metadata": {},
   "source": [
    "# Herramientas y Tecnologías\n",
    "\n",
    "A) Modelos de IA de Texto-a-Imagen: Se utilizarán herramientas avanzadas de generación de imagen basadas en IA, como DALL-E o similares, que permiten transformar descripciones textuales en imágenes visuales.\n",
    "Técnicas de Prompting Efectivas:\n",
    "1. Descriptivos y Detallados: Los prompts se diseñarán para ser lo más descriptivos y detallados posible, asegurando que las imágenes generadas reflejen con precisión las actividades y ambientes del centro.\n",
    "2. Enfoque en Elementos Sensoriales y Educativos: Se pondrá especial énfasis en incorporar elementos sensoriales y educativos relevantes para la estimulación temprana en los prompts.\n",
    "3. Iteración y Ajuste: Se adoptará un enfoque iterativo, ajustando los prompts según sea necesario para mejorar la precisión y relevancia de las imágenes generadas.\n",
    "\n",
    "B) Justificación:\n",
    "1. La elección de estas herramientas y técnicas se basa en su capacidad para generar material visual altamente personalizado que no está disponible a través de medios tradicionales.\n",
    "2. La metodología iterativa asegura una mejora continua y adaptación a las necesidades del centro y las expectativas del público objetivo.\n",
    "\n",
    "    Este enfoque integral garantiza que el proyecto \"ImagiNar\" no solo cumpla con sus objetivos de mejorar la comunicación y el marketing del centro, sino que también explore y demuestre el potencial de la IA en el ámbito educativo y creativo."
   ]
  },
  {
   "cell_type": "markdown",
   "id": "50c328e9",
   "metadata": {},
   "source": [
    "1. Import openAI dependences (load with conda install openai)"
   ]
  },
  {
   "cell_type": "code",
   "execution_count": 1,
   "id": "d5b5a752",
   "metadata": {},
   "outputs": [],
   "source": [
    "#Import openAI dependences (module)\n",
    "import openai"
   ]
  },
  {
   "cell_type": "markdown",
   "id": "7807e4d1-b0e1-4bde-bafa-aa78d446402c",
   "metadata": {},
   "source": [
    "2. Use the API Key from openAI page"
   ]
  },
  {
   "cell_type": "code",
   "execution_count": 2,
   "id": "bf4ce854-ad49-4e94-8168-dfe3fffde736",
   "metadata": {},
   "outputs": [],
   "source": [
    "#Add our API Key copied from openAI page\n",
    "openai.api_key = \"ejemplo\""
   ]
  },
  {
   "cell_type": "markdown",
   "id": "fe8179dc-0d75-4d7e-bda1-1d1792e1c60d",
   "metadata": {},
   "source": [
    "3. Make a request"
   ]
  },
  {
   "cell_type": "code",
   "execution_count": 4,
   "id": "8808d13b-a789-4a35-8124-f3e1e855f703",
   "metadata": {},
   "outputs": [],
   "source": [
    "#Make the context of our prompt envoirement\n",
    "context = \"Eres una especialista en estimulación temprana y experta en organización de talleres para niños hasta los 6 años\"\n",
    "\n",
    "#prompt (text/user's question)\n",
    "prompt = 'Crearás talleres de verano para niños y niñas. Estos talleres deben ser innovadores y se darán 2 veces por semana, en total serán 6 semanas de duración del taller. Cada clase durará 2 horas. Por ejemplo, un taller podría ser \"Los dinosaurios\", \"El imperio inca\", etc. Dame 10 ideas de talleres creativos e innovadores para tu empresa'"
   ]
  },
  {
   "cell_type": "code",
   "execution_count": 6,
   "id": "f758fac2-edf7-42d3-8518-0af12a0fd7ac",
   "metadata": {},
   "outputs": [
    {
     "name": "stdout",
     "output_type": "stream",
     "text": [
      "assistant: ¡Claro! Aquí te presento 10 ideas de talleres creativos e innovadores para niños y niñas de hasta 6 años:\n",
      "\n",
      "1. \"Descubriendo el espacio\": Los niños podrán aprender sobre el sistema solar, los planetas y las estrellas a través de manualidades y juegos interactivos.\n",
      "\n",
      "2. \"Exploradores del océano\": Un taller para que los niños se adentren en el mundo marino, aprendan sobre la diversidad de especies marinas y realicen experimentos con agua.\n",
      "\n",
      "3. \"El arte de pintar con la naturaleza\": Un taller en el cual los niños podrán explorar diferentes formas de arte utilizando elementos de la naturaleza como hojas, flores y ramas.\n",
      "\n",
      "4. \"Viajando por el mundo\": Cada clase estará enfocada en un país diferente, donde los niños aprenderán sobre su cultura, tradiciones y realizarán manualidades relacionadas.\n",
      "\n",
      "5. \"Jugando con la música\": En este taller, los niños podrán experimentar con diferentes instrumentos, aprender sobre ritmos y melodías, y realizar actividades de expresión corporal.\n",
      "\n",
      "6. \"El mágico mundo de los cuentos\": Los niños podrán sumergirse en el mundo de la literatura infantil a través de lecturas, dramatizaciones y actividades creativas basadas en los cuentos clásicos.\n",
      "\n",
      "7. \"Superhéroes y heroínas\": Los niños se convertirán en superhéroes y heroínas, explorando valores como la valentía, el compañerismo y la resiliencia a través de juegos y dinámicas.\n",
      "\n",
      "8. \"Construyendo con LEGO\": Este taller estará enfocado en potenciar la creatividad y el pensamiento lógico a través de la construcción con bloques de LEGO.\n",
      "\n",
      "9. \"El mundo de los insectos\": Los niños aprenderán sobre las diferentes especies de insectos, su importancia en el ecosistema y realizarán actividades como la creación de un hormiguero o mariposario.\n",
      "\n",
      "10. \"Científicos en acción\": Un taller donde los niños podrán realizar experimentos científicos sencillos pero sorprendentes, aprendiendo sobre principios de la física, química y biología.\n",
      "\n",
      "Estas ideas de talleres ofrecen una variedad de temas interesantes y estimulantes para los niños, promoviendo su aprendizaje y desarrollo integral.\n"
     ]
    }
   ],
   "source": [
    "# Make the request\n",
    "conversation = [\n",
    "    {\"role\": \"system\", \"content\": context},\n",
    "    {\"role\": \"user\", \"content\": prompt}\n",
    "]\n",
    "\n",
    "response = openai.ChatCompletion.create(\n",
    "    model='gpt-3.5-turbo',\n",
    "    messages=conversation,\n",
    "    max_tokens=1000\n",
    ")\n",
    "\n",
    "message = response.choices[0]['message']\n",
    "print(\"{}: {}\".format(message['role'], message['content']))"
   ]
  }
 ],
 "metadata": {
  "kernelspec": {
   "display_name": "Python 3 (ipykernel)",
   "language": "python",
   "name": "python3"
  },
  "language_info": {
   "codemirror_mode": {
    "name": "ipython",
    "version": 3
   },
   "file_extension": ".py",
   "mimetype": "text/x-python",
   "name": "python",
   "nbconvert_exporter": "python",
   "pygments_lexer": "ipython3",
   "version": "3.10.13"
  }
 },
 "nbformat": 4,
 "nbformat_minor": 5
}
